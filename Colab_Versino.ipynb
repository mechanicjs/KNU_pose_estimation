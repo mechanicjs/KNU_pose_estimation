{
  "nbformat": 4,
  "nbformat_minor": 0,
  "metadata": {
    "colab": {
      "name": "Untitled0.ipynb",
      "provenance": [],
      "authorship_tag": "ABX9TyP5HXcVpd3oykTg7SfdEehg",
      "include_colab_link": true
    },
    "kernelspec": {
      "name": "python3",
      "display_name": "Python 3"
    },
    "language_info": {
      "name": "python"
    }
  },
  "cells": [
    {
      "cell_type": "markdown",
      "metadata": {
        "id": "view-in-github",
        "colab_type": "text"
      },
      "source": [
        "<a href=\"https://colab.research.google.com/github/mechanicjs/KNU_pose_estimation/blob/main/Colab_Versino.ipynb\" target=\"_parent\"><img src=\"https://colab.research.google.com/assets/colab-badge.svg\" alt=\"Open In Colab\"/></a>"
      ]
    },
    {
      "cell_type": "markdown",
      "metadata": {
        "id": "1iiuu1tDe33s"
      },
      "source": [
        "코랩 환경 버전 확인"
      ]
    },
    {
      "cell_type": "code",
      "metadata": {
        "id": "5nCRFXhJ2TmM"
      },
      "source": [
        "import numpy as np\n",
        "import pandas as pd\n",
        "import sys\n",
        "import tensorflow as tf\n",
        "import cv2"
      ],
      "execution_count": 13,
      "outputs": []
    },
    {
      "cell_type": "code",
      "metadata": {
        "colab": {
          "base_uri": "https://localhost:8080/"
        },
        "id": "k3f6Mntm2Yak",
        "outputId": "3d06acba-3ac7-41d9-c593-3e8aff789f45"
      },
      "source": [
        "print('Version Check\\nPython : '+ sys.version + \"\\nNumpy : \" + np.version.version + \"\\nPandas : \" + pd.__version__ + \"\\nTensorflow : \" + tf.__version__\n",
        "      + \"\\nOpenCV :\" + cv2.__version__)"
      ],
      "execution_count": 18,
      "outputs": [
        {
          "output_type": "stream",
          "text": [
            "Version Check\n",
            "Python : 3.7.10 (default, Feb 20 2021, 21:17:23) \n",
            "[GCC 7.5.0]\n",
            "Numpy : 1.19.5\n",
            "Pandas : 1.1.5\n",
            "Tensorflow : 2.4.1\n",
            "OpenCV :4.1.2\n"
          ],
          "name": "stdout"
        }
      ]
    },
    {
      "cell_type": "code",
      "metadata": {
        "id": "y1kn6FDqe250"
      },
      "source": [
        ""
      ],
      "execution_count": null,
      "outputs": []
    }
  ]
}